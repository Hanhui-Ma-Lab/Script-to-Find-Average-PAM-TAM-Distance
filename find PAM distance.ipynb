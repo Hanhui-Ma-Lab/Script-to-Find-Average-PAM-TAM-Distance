{
 "cells": [
  {
   "cell_type": "markdown",
   "id": "71908a99-0248-480b-b882-b0a30218a9be",
   "metadata": {},
   "source": [
    "# Find Average PAM/TAM Distance\n",
    "\n",
    "This notebook is designed to find average PAM/TAM distance\n",
    "\n",
    "# Info\n",
    "Author: (Mo Qiqin)[https://mahhlab.org/team-members/]\n",
    "\n",
    "Lab: (Ma Lab)[https://mahhlab.org/]"
   ]
  },
  {
   "cell_type": "markdown",
   "id": "6f131919-2373-4fd0-8d74-ad024dcb8795",
   "metadata": {},
   "source": [
    "# Genome Data\n",
    "We find PAMs in hg19, the genome file can be downloaded with the following command:\n",
    "```\n",
    "wget http://hgdownload.soe.ucsc.edu/goldenPath/hg19/bigZips/chromFa.tar.gz\n",
    "```\n",
    "\n",
    "unzip it with \n",
    "```\n",
    "tar zxf chromFa.tar.gz\n",
    "```\n"
   ]
  },
  {
   "cell_type": "markdown",
   "id": "37cce7a9-ed46-4806-9ca5-dfe832467d32",
   "metadata": {},
   "source": [
    "-----------------\n",
    "\n",
    "# Codes:"
   ]
  },
  {
   "cell_type": "code",
   "execution_count": 1,
   "id": "de514c3f-25b9-4d52-8b5b-35644f73ea69",
   "metadata": {
    "execution": {
     "iopub.execute_input": "2023-07-24T15:06:23.694597Z",
     "iopub.status.busy": "2023-07-24T15:06:23.693108Z",
     "iopub.status.idle": "2023-07-24T15:06:25.195565Z",
     "shell.execute_reply": "2023-07-24T15:06:25.193992Z",
     "shell.execute_reply.started": "2023-07-24T15:06:23.694532Z"
    },
    "tags": []
   },
   "outputs": [],
   "source": [
    "import os\n",
    "import re\n",
    "import numpy as np\n",
    "import pandas as pd\n",
    "files = os.listdir()\n",
    "import matplotlib.pyplot as plt\n",
    "import collections\n",
    "from tqdm.notebook import tqdm\n",
    "from scipy import stats"
   ]
  },
  {
   "cell_type": "markdown",
   "id": "feff377b-a27c-4eba-95c3-42447443383e",
   "metadata": {},
   "source": [
    "-------------------\n",
    "## Utils"
   ]
  },
  {
   "cell_type": "code",
   "execution_count": 2,
   "id": "d6cc8983-c885-447e-87cd-bca4a45146e1",
   "metadata": {
    "execution": {
     "iopub.execute_input": "2023-07-24T15:06:27.237066Z",
     "iopub.status.busy": "2023-07-24T15:06:27.236094Z",
     "iopub.status.idle": "2023-07-24T15:06:27.247619Z",
     "shell.execute_reply": "2023-07-24T15:06:27.246087Z",
     "shell.execute_reply.started": "2023-07-24T15:06:27.236994Z"
    },
    "tags": []
   },
   "outputs": [],
   "source": [
    "def get_d_list(content,PAM):\n",
    "    \"\"\"Find PMA distance in sequence content\n",
    "    Params:\n",
    "        content: (str) sequence, for example: \"AATTGGCCATGAGAG\".\n",
    "        PAM: (str) PAM pattern, a string writtern in regular expression. fro example: PAM=('([ATCG]GG)|CC[ATGC]')\n",
    "        \n",
    "    Return:\n",
    "        distance_list: (list) A list contain a serias of distance. For example: [1,1,4,5,1,4],\n",
    "        which means the distance of the first PAM and the 2nd PAM is 1; the distance of  2nd PAM and 3th\n",
    "        is 1; the distance of 3th and 4th is 4....\n",
    "        \n",
    "    \"\"\"\n",
    "    # PAM=('([ATCG]GG)|CC[ATGC]')\n",
    "    pam =re.finditer(PAM,content)\n",
    "    # location = {}\n",
    "    d = []\n",
    "    index0 = 0\n",
    "\n",
    "    for i in pam:\n",
    "        index = i.start()\n",
    "        match = i.group()\n",
    "        distance = index - index0\n",
    "        # location[index] = [distance,match]\n",
    "        d.append(distance)\n",
    "        index0 = index\n",
    "    \n",
    "    return d[1:]\n",
    "    \n",
    " "
   ]
  },
  {
   "cell_type": "code",
   "execution_count": 3,
   "id": "9cc13c0f-8886-492e-bc2a-3d8b73b01922",
   "metadata": {
    "execution": {
     "iopub.execute_input": "2023-07-24T15:06:29.530380Z",
     "iopub.status.busy": "2023-07-24T15:06:29.528883Z",
     "iopub.status.idle": "2023-07-24T15:06:29.539360Z",
     "shell.execute_reply": "2023-07-24T15:06:29.538179Z",
     "shell.execute_reply.started": "2023-07-24T15:06:29.530314Z"
    },
    "tags": []
   },
   "outputs": [],
   "source": [
    "def get_ds(PAM):\n",
    "    \"\"\"Search the PAM in each fa file.\n",
    "    First, open a fa file and read the sequence as \"ATCGATCGAAAAATTTCC\" like str.\n",
    "    Then, record the distances of every PAM location in each fa file.\n",
    "    Last, combine all PAM distance list of each Chromasome into a list, then return it.\n",
    "    \n",
    "    Params:\n",
    "        PAM: str, (str) PAM pattern, a string writtern in regular expression. fro example: PAM=('([ATCG]GG)|CC[ATGC]')\n",
    "    \n",
    "    Returns:\n",
    "        distance_list_of_all_chr: list, A list contain a serias of distance. For example: [1,1,4,5,1,4]\n",
    "    \"\"\"\n",
    "    ds = []\n",
    "    files = tqdm(os.listdir())\n",
    "    for i in files:\n",
    "        if \"fa\" in i and not(\"_\" in i):\n",
    "            fa = i\n",
    "            files.set_description(fa)\n",
    "            with open(fa, 'r') as f:\n",
    "                content = f.read().replace('\\n','')\n",
    "                d = get_d_list(content,PAM)\n",
    "                ds = ds + d\n",
    "    return ds"
   ]
  },
  {
   "cell_type": "markdown",
   "id": "a2a0586b-0a79-4ba1-b213-575ac2109765",
   "metadata": {
    "execution": {
     "iopub.execute_input": "2023-07-27T09:46:01.029877Z",
     "iopub.status.busy": "2023-07-27T09:46:01.029121Z",
     "iopub.status.idle": "2023-07-27T09:46:01.036830Z",
     "shell.execute_reply": "2023-07-27T09:46:01.035426Z",
     "shell.execute_reply.started": "2023-07-27T09:46:01.029815Z"
    },
    "tags": []
   },
   "source": [
    "## PAM preparation"
   ]
  },
  {
   "cell_type": "code",
   "execution_count": 65,
   "id": "02685cd7-69fd-45c8-9d14-a945c7768ff5",
   "metadata": {
    "execution": {
     "iopub.execute_input": "2023-07-27T09:37:25.089416Z",
     "iopub.status.busy": "2023-07-27T09:37:25.088428Z",
     "iopub.status.idle": "2023-07-27T09:37:25.095988Z",
     "shell.execute_reply": "2023-07-27T09:37:25.094595Z",
     "shell.execute_reply.started": "2023-07-27T09:37:25.089351Z"
    },
    "tags": []
   },
   "outputs": [],
   "source": [
    "# Example 1\n",
    "q = {'spCas9':'([ATCG]GG)|(CC[ATGC])',\n",
    "    \"saCas9\":\"([ATCG][ATCG]G[AG][AG]T)|(A[CT][CT]C[ATCG][[ATCG]])\",\n",
    "     \"Cpf1\":\"(TTT[ACG])|([CGT]AAA)\",\n",
    "     \"Un1Cas12f1\":\"(TTT[AG])|([TC]AAA)\",\n",
    "     \"TnpB\":\"(TTGAT)|(ATCAA)\",\n",
    "     \"IscB\":\"([ATCG][ATCG][AG][AG])|([CT][CT][ATCG][ATCG])\"\n",
    "    }"
   ]
  },
  {
   "cell_type": "code",
   "execution_count": 66,
   "id": "5183e9a6-2186-4f6e-8ebf-47011835e64d",
   "metadata": {
    "execution": {
     "iopub.execute_input": "2023-07-27T09:37:25.738336Z",
     "iopub.status.busy": "2023-07-27T09:37:25.737591Z",
     "iopub.status.idle": "2023-07-27T09:37:25.746965Z",
     "shell.execute_reply": "2023-07-27T09:37:25.746015Z",
     "shell.execute_reply.started": "2023-07-27T09:37:25.738273Z"
    },
    "tags": []
   },
   "outputs": [],
   "source": [
    "N = \"[ATCG]\"\n",
    "V = \"[ACG]\"\n",
    "V_ = \"[TCG]\"\n",
    "\n",
    "R = \"[AG]\"\n",
    "R_ = \"[TC]\"\n",
    "\n",
    "Y = \"[CT]\"\n",
    "Y_ ='[GA]'\n",
    "\n",
    "M = \"[AC]\"\n",
    "M_ = \"[TG]\"\n",
    "\n",
    "A = 'A'\n",
    "T = 'T'\n",
    "C = 'C'\n",
    "G = 'G'"
   ]
  },
  {
   "cell_type": "code",
   "execution_count": 67,
   "id": "e4720491-0fd3-43fd-bf2b-0978401bb0e1",
   "metadata": {
    "execution": {
     "iopub.execute_input": "2023-07-27T09:37:26.604487Z",
     "iopub.status.busy": "2023-07-27T09:37:26.602987Z",
     "iopub.status.idle": "2023-07-27T09:37:26.612643Z",
     "shell.execute_reply": "2023-07-27T09:37:26.611771Z",
     "shell.execute_reply.started": "2023-07-27T09:37:26.604422Z"
    },
    "tags": []
   },
   "outputs": [
    {
     "data": {
      "text/plain": [
       "'[ATCG][ATCG][ATCG][ACG][AG][CT]AC'"
      ]
     },
     "execution_count": 67,
     "metadata": {},
     "output_type": "execute_result"
    }
   ],
   "source": [
    "N+N+N+V+R+Y+A+C"
   ]
  },
  {
   "cell_type": "code",
   "execution_count": 68,
   "id": "84bfb6e9-d6c4-45ae-bf88-e9f1669a9fe5",
   "metadata": {
    "execution": {
     "iopub.execute_input": "2023-07-27T09:37:27.681411Z",
     "iopub.status.busy": "2023-07-27T09:37:27.680665Z",
     "iopub.status.idle": "2023-07-27T09:37:27.689096Z",
     "shell.execute_reply": "2023-07-27T09:37:27.687793Z",
     "shell.execute_reply.started": "2023-07-27T09:37:27.681361Z"
    },
    "tags": []
   },
   "outputs": [],
   "source": [
    "# Example 2\n",
    "\n",
    "pam_1 = N+N+N+V+R+Y+A+C\n",
    "pam_1_ = (G+T+Y_+R_+V_+N+N+N)\n",
    "\n",
    "pam_2 = (N+N+N+V+R+Y+M)\n",
    "pam_2_ = (M_+Y_+R_+V_+N+N+N)\n",
    "\n",
    "\n",
    "lsy = {\"1\":f\"({pam_1})|({pam_1_})\",\n",
    "      \"2\":f\"({pam_2})|({pam_2_})\"}"
   ]
  },
  {
   "cell_type": "code",
   "execution_count": 52,
   "id": "4fa78b9c-fcc6-4e3b-9aed-cf968f111bb1",
   "metadata": {
    "execution": {
     "iopub.execute_input": "2023-07-27T08:25:22.071266Z",
     "iopub.status.busy": "2023-07-27T08:25:22.070525Z",
     "iopub.status.idle": "2023-07-27T08:25:22.080055Z",
     "shell.execute_reply": "2023-07-27T08:25:22.078443Z",
     "shell.execute_reply.started": "2023-07-27T08:25:22.071232Z"
    },
    "tags": []
   },
   "outputs": [
    {
     "data": {
      "text/plain": [
       "{'1': '([ATCG][ATCG][ATCG][ACG][AG][CT]AC)|(GT[GA][TC][TCG][ATCG][ATCG][ATCG])',\n",
       " '2': '([ATCG][ATCG][ATCG][ACG][AG][CT][AC])|([TG][GA][TC][TCG][ATCG][ATCG][ATCG])'}"
      ]
     },
     "execution_count": 52,
     "metadata": {},
     "output_type": "execute_result"
    }
   ],
   "source": [
    "lsy"
   ]
  },
  {
   "cell_type": "markdown",
   "id": "ad5e407a-169e-45ac-9590-5b1f7e75967f",
   "metadata": {},
   "source": [
    "## Start counting"
   ]
  },
  {
   "cell_type": "code",
   "execution_count": 58,
   "id": "d38f1605-db0a-43f4-9b8e-2908507ca212",
   "metadata": {
    "execution": {
     "iopub.execute_input": "2023-07-27T08:40:37.515897Z",
     "iopub.status.busy": "2023-07-27T08:40:37.515284Z",
     "iopub.status.idle": "2023-07-27T08:53:45.756834Z",
     "shell.execute_reply": "2023-07-27T08:53:45.754889Z",
     "shell.execute_reply.started": "2023-07-27T08:40:37.515863Z"
    },
    "tags": []
   },
   "outputs": [
    {
     "name": "stdout",
     "output_type": "stream",
     "text": [
      "1\n"
     ]
    },
    {
     "data": {
      "application/vnd.jupyter.widget-view+json": {
       "model_id": "56aadcb3c65e4d3a9bf25b96a3d612c9",
       "version_major": 2,
       "version_minor": 0
      },
      "text/plain": [
       "  0%|          | 0/96 [00:00<?, ?it/s]"
      ]
     },
     "metadata": {},
     "output_type": "display_data"
    },
    {
     "name": "stderr",
     "output_type": "stream",
     "text": [
      "/tmp/ipykernel_207540/1693861557.py:7: FutureWarning: Unlike other reduction functions (e.g. `skew`, `kurtosis`), the default behavior of `mode` typically preserves the axis it acts along. In SciPy 1.11.0, this behavior will change: the default value of `keepdims` will become False, the `axis` over which the statistic is taken will be eliminated, and the value None will no longer be accepted. Set `keepdims` to True or False to avoid this warning.\n",
      "  mode = stats.mode(ds)[0][0]\n"
     ]
    },
    {
     "name": "stdout",
     "output_type": "stream",
     "text": [
      "1 PAM距离的平均数是                                                                                  151.76177330184984,众数是                                                                                                   9,hg19中一共有19837277个靶点\n",
      "2\n"
     ]
    },
    {
     "data": {
      "application/vnd.jupyter.widget-view+json": {
       "model_id": "9dce775b799c4f978db132211f38c091",
       "version_major": 2,
       "version_minor": 0
      },
      "text/plain": [
       "  0%|          | 0/96 [00:00<?, ?it/s]"
      ]
     },
     "metadata": {},
     "output_type": "display_data"
    },
    {
     "name": "stderr",
     "output_type": "stream",
     "text": [
      "/tmp/ipykernel_207540/1693861557.py:7: FutureWarning: Unlike other reduction functions (e.g. `skew`, `kurtosis`), the default behavior of `mode` typically preserves the axis it acts along. In SciPy 1.11.0, this behavior will change: the default value of `keepdims` will become False, the `axis` over which the statistic is taken will be eliminated, and the value None will no longer be accepted. Set `keepdims` to True or False to avoid this warning.\n",
      "  mode = stats.mode(ds)[0][0]\n"
     ]
    },
    {
     "name": "stdout",
     "output_type": "stream",
     "text": [
      "2 PAM距离的平均数是                                                                                  24.982809422609183,众数是                                                                                                   7,hg19中一共有120505900个靶点\n"
     ]
    }
   ],
   "source": [
    "# code for example 2\n",
    "fig_data = {}\n",
    "output = ''\n",
    "for cas in lsy:\n",
    "    print(cas)\n",
    "    PAM = lsy[cas]\n",
    "    ds = get_ds(PAM)\n",
    "    mode = stats.mode(ds)[0][0]\n",
    "    count = len(ds)\n",
    "    mean = sum(ds)/count\n",
    "    output = output + (f\"{cas} PAM距离的平均数是{mean:100},众数是{mode:100},hg19中一共有{count}个靶点\") + \"\\n\"\n",
    "    print(f\"{cas} PAM距离的平均数是{mean:100},众数是{mode:100},hg19中一共有{count}个靶点\")\n",
    "    s1 = pd.Series(ds)\n",
    "    a = s1.describe()\n",
    "    median = a[\"50%\"]\n",
    "    q1 = a['25%']\n",
    "    q3 = a['75%']\n",
    "    lower_fence = a[\"min\"]\n",
    "    upper_fence = a[\"max\"]\n",
    "\n",
    "    # 计算箱子的高度\n",
    "    box_height = q3 - q1\n",
    "\n",
    "    # 计算上下边界到箱子顶部/底部的距离\n",
    "    upper_whisker = min(q3 + 1.5 * box_height, upper_fence)\n",
    "    lower_whisker = max(q1 - 1.5 * box_height, lower_fence)\n",
    "    fig_data[cas] = [lower_whisker, q1, median, q3, upper_whisker]\n",
    "    "
   ]
  },
  {
   "cell_type": "code",
   "execution_count": 59,
   "id": "a16e5f5e-f1b2-4d30-98e4-fcd8bce1c314",
   "metadata": {
    "execution": {
     "iopub.execute_input": "2023-07-27T08:53:45.759674Z",
     "iopub.status.busy": "2023-07-27T08:53:45.759089Z",
     "iopub.status.idle": "2023-07-27T08:53:45.766717Z",
     "shell.execute_reply": "2023-07-27T08:53:45.765903Z",
     "shell.execute_reply.started": "2023-07-27T08:53:45.759634Z"
    },
    "tags": []
   },
   "outputs": [
    {
     "data": {
      "text/plain": [
       "'1 PAM距离的平均数是                                                                                  151.76177330184984,众数是                                                                                                   9,hg19中一共有19837277个靶点\\n2 PAM距离的平均数是                                                                                  24.982809422609183,众数是                                                                                                   7,hg19中一共有120505900个靶点\\n'"
      ]
     },
     "execution_count": 59,
     "metadata": {},
     "output_type": "execute_result"
    }
   ],
   "source": [
    "output"
   ]
  },
  {
   "cell_type": "code",
   "execution_count": 60,
   "id": "037aa3b0-f568-4360-878d-316699b13e91",
   "metadata": {
    "execution": {
     "iopub.execute_input": "2023-07-27T08:53:45.768308Z",
     "iopub.status.busy": "2023-07-27T08:53:45.767897Z",
     "iopub.status.idle": "2023-07-27T08:53:46.633109Z",
     "shell.execute_reply": "2023-07-27T08:53:46.632071Z",
     "shell.execute_reply.started": "2023-07-27T08:53:45.768279Z"
    },
    "tags": []
   },
   "outputs": [
    {
     "data": {
      "image/png": "[encoded data removed]",
      "text/plain": [
       "<Figure size 640x480 with 1 Axes>"
      ]
     },
     "metadata": {},
     "output_type": "display_data"
    }
   ],
   "source": [
    "plt.boxplot(\n",
    "    [fig_data['1'],fig_data['2']],\n",
    "    labels=['1', '2']\n",
    ")\n",
    "\n",
    "plt.ylabel(\"PAM Distance\")\n",
    "\n",
    "plt.show()"
   ]
  },
  {
   "cell_type": "code",
   "execution_count": null,
   "id": "db0dd7d1-ca71-49db-9096-f796e253e511",
   "metadata": {},
   "outputs": [],
   "source": [
    "# code for example 1\n",
    "fig_data = {}\n",
    "output = ''\n",
    "for cas in q:\n",
    "    print(cas)\n",
    "    PAM = q[cas]\n",
    "    ds = get_ds(PAM)\n",
    "    mode = stats.mode(ds)[0][0]\n",
    "    count = len(ds)\n",
    "    mean = sum(ds)/count\n",
    "    output = output + (f\"{cas} PAM距离的平均数是{mean:100},众数是{mode:100},hg19中一共有{count}个靶点\") + \"\\n\"\n",
    "    print(f\"{cas} PAM距离的平均数是{mean:100},众数是{mode:100},hg19中一共有{count}个靶点\")\n",
    "    s1 = pd.Series(ds)\n",
    "    a = s1.describe()\n",
    "    median = a[\"50%\"]\n",
    "    q1 = a['25%']\n",
    "    q3 = a['75%']\n",
    "    lower_fence = a[\"min\"]\n",
    "    upper_fence = a[\"max\"]\n",
    "\n",
    "    # 计算箱子的高度\n",
    "    box_height = q3 - q1\n",
    "\n",
    "    # 计算上下边界到箱子顶部/底部的距离\n",
    "    upper_whisker = min(q3 + 1.5 * box_height, upper_fence)\n",
    "    lower_whisker = max(q1 - 1.5 * box_height, lower_fence)\n",
    "    fig_data[cas] = [lower_whisker, q1, median, q3, upper_whisker]\n",
    "    "
   ]
  },
  {
   "cell_type": "code",
   "execution_count": 37,
   "id": "c8156797-4780-4620-804c-beb7a4b7c354",
   "metadata": {
    "execution": {
     "iopub.execute_input": "2023-07-24T16:21:48.301502Z",
     "iopub.status.busy": "2023-07-24T16:21:48.300908Z",
     "iopub.status.idle": "2023-07-24T16:21:51.701513Z",
     "shell.execute_reply": "2023-07-24T16:21:51.700201Z",
     "shell.execute_reply.started": "2023-07-24T16:21:48.301463Z"
    },
    "tags": []
   },
   "outputs": [
    {
     "data": {
      "image/png": "[encoded data removed]",
      "text/plain": [
       "<Figure size 640x480 with 1 Axes>"
      ]
     },
     "metadata": {},
     "output_type": "display_data"
    }
   ],
   "source": [
    "plt.boxplot(\n",
    "    [fig_data['spCas9'],fig_data['saCas9'],fig_data['Cpf1'],fig_data['Un1Cas12f1'],fig_data['TnpB'],fig_data['IscB']],\n",
    "    labels=fig_data.keys()\n",
    ")\n",
    "\n",
    "plt.ylabel(\"PAM Distance\")\n",
    "\n",
    "plt.show()\n"
   ]
  },
  {
   "cell_type": "code",
   "execution_count": 38,
   "id": "7839df45-4226-413f-962d-e16b7f77283e",
   "metadata": {
    "execution": {
     "iopub.execute_input": "2023-07-24T16:21:51.703937Z",
     "iopub.status.busy": "2023-07-24T16:21:51.703350Z",
     "iopub.status.idle": "2023-07-24T16:21:51.953677Z",
     "shell.execute_reply": "2023-07-24T16:21:51.952312Z",
     "shell.execute_reply.started": "2023-07-24T16:21:51.703883Z"
    },
    "tags": []
   },
   "outputs": [
    {
     "data": {
      "image/png": "[encoded data removed]",
      "text/plain": [
       "<Figure size 640x480 with 1 Axes>"
      ]
     },
     "metadata": {},
     "output_type": "display_data"
    }
   ],
   "source": [
    "plt.boxplot(\n",
    "    [fig_data['spCas9'],fig_data['saCas9'],fig_data['Cpf1'],fig_data['Un1Cas12f1'],fig_data['IscB']],\n",
    "    labels=['spCas9', 'saCas9', 'Cpf1','UnCas12f1','IscB']\n",
    ")\n",
    "\n",
    "plt.ylabel(\"PAM Distance\")\n",
    "\n",
    "plt.show()"
   ]
  },
  {
   "cell_type": "code",
   "execution_count": 57,
   "id": "4d49e6c8-567e-4d4d-b25d-b6ef6e8aa322",
   "metadata": {
    "execution": {
     "iopub.execute_input": "2023-07-27T08:40:31.754242Z",
     "iopub.status.busy": "2023-07-27T08:40:31.752677Z",
     "iopub.status.idle": "2023-07-27T08:40:31.763155Z",
     "shell.execute_reply": "2023-07-27T08:40:31.761979Z",
     "shell.execute_reply.started": "2023-07-27T08:40:31.754175Z"
    },
    "tags": []
   },
   "outputs": [
    {
     "data": {
      "text/plain": [
       "{'1': [8.0, 25.0, 54.0, 117.0, 255.0]}"
      ]
     },
     "execution_count": 57,
     "metadata": {},
     "output_type": "execute_result"
    }
   ],
   "source": [
    "fig_data"
   ]
  },
  {
   "cell_type": "code",
   "execution_count": 61,
   "id": "f80dd5c3-8029-4e76-888a-ee04ca02caa3",
   "metadata": {
    "execution": {
     "iopub.execute_input": "2023-07-27T09:14:08.583121Z",
     "iopub.status.busy": "2023-07-27T09:14:08.582371Z",
     "iopub.status.idle": "2023-07-27T09:14:08.590378Z",
     "shell.execute_reply": "2023-07-27T09:14:08.588914Z",
     "shell.execute_reply.started": "2023-07-27T09:14:08.583057Z"
    },
    "tags": []
   },
   "outputs": [
    {
     "name": "stdout",
     "output_type": "stream",
     "text": [
      "1 PAM距离的平均数是                                                                                  151.76177330184984,众数是                                                                                                   9,hg19中一共有19837277个靶点\n",
      "\n",
      "\n",
      "2 PAM距离的平均数是                                                                                  24.982809422609183,众数是                                                                                                   7,hg19中一共有120505900个靶点\n",
      "\n",
      "\n",
      "\n",
      "\n",
      "\n"
     ]
    }
   ],
   "source": [
    "for i in output.split(\"\\n\"):\n",
    "    print(i + '\\n\\n')"
   ]
  },
  {
   "cell_type": "markdown",
   "id": "df8df2e4-feee-4629-a48e-4fdca3ea5dbb",
   "metadata": {},
   "source": []
  }
 ],
 "metadata": {
  "kernelspec": {
   "display_name": "Python 3 (ipykernel)",
   "language": "python",
   "name": "python3"
  },
  "language_info": {
   "codemirror_mode": {
    "name": "ipython",
    "version": 3
   },
   "file_extension": ".py",
   "mimetype": "text/x-python",
   "name": "python",
   "nbconvert_exporter": "python",
   "pygments_lexer": "ipython3",
   "version": "3.10.9"
  }
 },
 "nbformat": 4,
 "nbformat_minor": 5
}
